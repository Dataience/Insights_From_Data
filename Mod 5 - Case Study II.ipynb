{
 "cells": [
  {
   "cell_type": "code",
   "execution_count": 1,
   "metadata": {},
   "outputs": [],
   "source": [
    "import pandas as pd\n",
    "import os\n",
    "import warnings\n",
    "warnings.filterwarnings('ignore')"
   ]
  },
  {
   "cell_type": "code",
   "execution_count": 2,
   "metadata": {},
   "outputs": [],
   "source": [
    "os.chdir('/Users/TigeressQueen/Downloads/Python for Data Science/DS_mod5/data')"
   ]
  },
  {
   "cell_type": "code",
   "execution_count": 3,
   "metadata": {},
   "outputs": [],
   "source": [
    "dataset = pd.read_csv('Salaries.csv')"
   ]
  },
  {
   "cell_type": "code",
   "execution_count": 100,
   "metadata": {},
   "outputs": [
    {
     "name": "stdout",
     "output_type": "stream",
     "text": [
      "   Id       EmployeeName                                        JobTitle  \\\n",
      "0   1     NATHANIEL FORD  GENERAL MANAGER-METROPOLITAN TRANSIT AUTHORITY   \n",
      "1   2       GARY JIMENEZ                 CAPTAIN III (POLICE DEPARTMENT)   \n",
      "2   3     ALBERT PARDINI                 CAPTAIN III (POLICE DEPARTMENT)   \n",
      "3   4  CHRISTOPHER CHONG            WIRE ROPE CABLE MAINTENANCE MECHANIC   \n",
      "4   5    PATRICK GARDNER    DEPUTY CHIEF OF DEPARTMENT,(FIRE DEPARTMENT)   \n",
      "\n",
      "     BasePay  OvertimePay   OtherPay  Benefits   TotalPay  TotalPayBenefits  \\\n",
      "0  167411.18         0.00  400184.25       NaN  567595.43         567595.43   \n",
      "1  155966.02    245131.88  137811.38       NaN  538909.28         538909.28   \n",
      "2  212739.13    106088.18   16452.60       NaN  335279.91         335279.91   \n",
      "3   77916.00     56120.71  198306.90       NaN  332343.61         332343.61   \n",
      "4  134401.60      9737.00  182234.59       NaN  326373.19         326373.19   \n",
      "\n",
      "   Year  Notes         Agency Status  \n",
      "0  2011    NaN  San Francisco    NaN  \n",
      "1  2011    NaN  San Francisco    NaN  \n",
      "2  2011    NaN  San Francisco    NaN  \n",
      "3  2011    NaN  San Francisco    NaN  \n",
      "4  2011    NaN  San Francisco    NaN  \n",
      "<class 'pandas.core.frame.DataFrame'>\n",
      "RangeIndex: 148648 entries, 0 to 148647\n",
      "Data columns (total 13 columns):\n",
      "Id                  148648 non-null int64\n",
      "EmployeeName        148648 non-null object\n",
      "JobTitle            148648 non-null object\n",
      "BasePay             148043 non-null float64\n",
      "OvertimePay         148648 non-null float64\n",
      "OtherPay            148648 non-null float64\n",
      "Benefits            112490 non-null float64\n",
      "TotalPay            148648 non-null float64\n",
      "TotalPayBenefits    148648 non-null float64\n",
      "Year                148648 non-null int64\n",
      "Notes               0 non-null float64\n",
      "Agency              148648 non-null object\n",
      "Status              38119 non-null object\n",
      "dtypes: float64(7), int64(2), object(4)\n",
      "memory usage: 14.7+ MB\n",
      "None\n",
      "                  Id        BasePay    OvertimePay       OtherPay  \\\n",
      "count  148648.000000  148043.000000  148648.000000  148648.000000   \n",
      "mean    74326.110220   66325.398119    5065.821161    3648.761721   \n",
      "std     42911.633315   42764.898947   11454.266982    8056.655841   \n",
      "min         1.000000    -166.010000      -0.010000   -7058.590000   \n",
      "25%     37163.750000   33587.350000       0.000000       0.000000   \n",
      "50%     74326.500000   65007.450000       0.000000     811.205000   \n",
      "75%    111488.250000   94691.050000    4657.597500    4236.035000   \n",
      "max    148654.000000  319275.010000  245131.880000  400184.250000   \n",
      "\n",
      "            Benefits       TotalPay  TotalPayBenefits           Year  Notes  \n",
      "count  112490.000000  148648.000000     148648.000000  148648.000000    0.0  \n",
      "mean    25007.777439   74770.035453      93694.776345    2012.522617    NaN  \n",
      "std     15402.235424   50516.440633      62792.743250       1.117526    NaN  \n",
      "min       -33.890000    -618.130000       -618.130000    2011.000000    NaN  \n",
      "25%     11535.192500   36169.370000      44072.062500    2012.000000    NaN  \n",
      "50%     28628.365000   71427.130000      92406.020000    2013.000000    NaN  \n",
      "75%     35566.790000  105840.920000     132876.997500    2014.000000    NaN  \n",
      "max     96570.660000  567595.430000     567595.430000    2014.000000    NaN  \n"
     ]
    }
   ],
   "source": [
    "#read the first 5 records\n",
    "print (dataset.head(5))\n",
    "\n",
    "#data information\n",
    "print (dataset.info())\n",
    "\n",
    "#statistical summary of data\n",
    "print (dataset.describe())"
   ]
  },
  {
   "cell_type": "code",
   "execution_count": 131,
   "metadata": {},
   "outputs": [
    {
     "name": "stdout",
     "output_type": "stream",
     "text": [
      "Year\n",
      "2011    2.594113e+09\n",
      "2012    3.696790e+09\n",
      "2013    3.814772e+09\n",
      "2014    3.821866e+09\n",
      "Name: TotalPayBenefits, dtype: float64\n"
     ]
    }
   ],
   "source": [
    "#Compute how much total salary cost has increased from year 2011 to 2014\n",
    "\n",
    "year = dataset.groupby('Year').sum()['TotalPayBenefits']\n",
    "print (year)"
   ]
  },
  {
   "cell_type": "code",
   "execution_count": 4,
   "metadata": {},
   "outputs": [
    {
     "name": "stdout",
     "output_type": "stream",
     "text": [
      "Year\n",
      "2011     71743.819645\n",
      "2012    100551.886807\n",
      "2013    101440.519714\n",
      "2014    100261.438668\n",
      "Name: TotalPayBenefits, dtype: float64\n"
     ]
    }
   ],
   "source": [
    "# Check the mean salary cost per year and see how it has increased per year\n",
    "years = dataset.groupby('Year').mean()['TotalPayBenefits']\n",
    "print (years)"
   ]
  },
  {
   "cell_type": "code",
   "execution_count": 6,
   "metadata": {},
   "outputs": [
    {
     "name": "stdout",
     "output_type": "stream",
     "text": [
      "Profit year difference: [28808.06716185191, 888.6329073952074, -1179.0810457599146] \n",
      "\n",
      "Total profit year difference from 2012 to 2014 is  93499.41620853971\n"
     ]
    }
   ],
   "source": [
    "diff = []\n",
    "for i in range(0,3):\n",
    "    i+=1\n",
    "    d = years.values[i] - years.values[i-1]\n",
    "    diff.append(d)\n",
    "print (\"Profit year difference:\", diff , '\\n')\n",
    "print ('Total profit year difference from 2012 to 2014 is ', years.values.mean())"
   ]
  },
  {
   "cell_type": "code",
   "execution_count": 121,
   "metadata": {},
   "outputs": [
    {
     "name": "stdout",
     "output_type": "stream",
     "text": [
      "JobTitle\n",
      "Chief Investment Officer       436224.36\n",
      "Chief of Police                418019.22\n",
      "Chief, Fire Department         417435.10\n",
      "Gen Mgr, Public Trnsp Dept     379918.72\n",
      "Dep Chf of Dept (Fire Dept)    368006.35\n",
      "Name: TotalPayBenefits, dtype: float64\n",
      "\n",
      " The job title in year 2014 with the highest mean salary is Chief Investment Officer\n"
     ]
    }
   ],
   "source": [
    "#Which Job Title in Year 2014 has highest mean salary?\n",
    "\n",
    "job2014 = dataset[dataset['Year']==2014]\n",
    "jobtitle = job2014.groupby('JobTitle').mean()['TotalPayBenefits']\n",
    "jobtitle_high_salary = jobtitle.sort_values(ascending=False).head(5)\n",
    "print (jobtitle_high_salary)\n",
    "print (\"\\n\",\"The job title in year 2014 with the highest mean salary is\",jobtitle_high_salary.index[0])"
   ]
  },
  {
   "cell_type": "code",
   "execution_count": 123,
   "metadata": {},
   "outputs": [
    {
     "name": "stdout",
     "output_type": "stream",
     "text": [
      "Money saved in 2014 without OvertimePay would be 205918599.26999998\n"
     ]
    }
   ],
   "source": [
    "#How much money could have been saved in Year 2014 by stopping OverTimePay?\n",
    "\n",
    "year_2014 = dataset[dataset['Year']==2014]\n",
    "saved = year_2014['OvertimePay'].sum()\n",
    "print (\"Money saved in 2014 without OvertimePay would be\" , saved)"
   ]
  },
  {
   "cell_type": "code",
   "execution_count": 124,
   "metadata": {},
   "outputs": [
    {
     "name": "stdout",
     "output_type": "stream",
     "text": [
      "Transit Operator                2479\n",
      "Special Nurse                   1478\n",
      "Registered Nurse                1234\n",
      "Public Svc Aide-Public Works     916\n",
      "Firefighter                      815\n",
      "Name: JobTitle, dtype: int64\n"
     ]
    }
   ],
   "source": [
    "#Which are the top 5 common job in Year 2014 and how much do they cost SFO ?\n",
    "\n",
    "employee_2014 = dataset[dataset['Year']==2014]\n",
    "profile = employee_2014['JobTitle'].value_counts()\n",
    "top_5 = profile.head(5)\n",
    "print (top_5)"
   ]
  },
  {
   "cell_type": "code",
   "execution_count": 126,
   "metadata": {},
   "outputs": [
    {
     "name": "stdout",
     "output_type": "stream",
     "text": [
      "JobTitle\n",
      "ACPO,JuvP, Juv Prob (SFERS)       80266.37\n",
      "ASR Senior Office Specialist    1925501.44\n",
      "ASR-Office Assistant            1002259.44\n",
      "Account Clerk                   5135754.45\n",
      "Accountant I                     128356.66\n",
      "Name: TotalPayBenefits, dtype: float64\n"
     ]
    }
   ],
   "source": [
    "job2014 = dataset[dataset['Year']==2014]\n",
    "job_2014 = job2014.groupby('JobTitle').sum()['TotalPayBenefits']\n",
    "print (job_2014.head(5))"
   ]
  },
  {
   "cell_type": "code",
   "execution_count": 142,
   "metadata": {},
   "outputs": [
    {
     "name": "stdout",
     "output_type": "stream",
     "text": [
      "Total Cost of Top 5 Jobs in Year 2014 is  610269227.6600003\n"
     ]
    }
   ],
   "source": [
    "sum = 0\n",
    "for i in top_5.index:\n",
    "    frame = job_2014[(job_2014.index)==i]\n",
    "    sum = frame.values.sum() + sum\n",
    "print ('Total Cost of Top 5 Jobs in Year 2014 is ', sum)"
   ]
  },
  {
   "cell_type": "code",
   "execution_count": 129,
   "metadata": {},
   "outputs": [
    {
     "name": "stdout",
     "output_type": "stream",
     "text": [
      "EmployeeName\n",
      "Kevin Lee                1778487.17\n",
      "Steven Lee               1706550.76\n",
      "William Wong             1459954.17\n",
      "Stanley Lee              1457279.68\n",
      "Richard Lee              1268668.84\n",
      "John L Martin            1054756.22\n",
      "Wayne Wong               1021109.55\n",
      "Alan Wong                1011610.58\n",
      "John Chan                 946239.26\n",
      "Michael Brown             907786.48\n",
      "Robert Wong               901466.16\n",
      "John Miller               874900.73\n",
      "Amy P Hart                863398.99\n",
      "David Shinn               844056.71\n",
      "Gregory P Suhr            843834.50\n",
      "Joanne M Hayes-White      839788.50\n",
      "Thomas Smith              831608.57\n",
      "Ryan J Jones              824661.39\n",
      "Frank Lee                 823942.97\n",
      "Ellen G Moffatt           817504.82\n",
      "KEVIN LEE                 809424.84\n",
      "John Lee                  799287.73\n",
      "David L Franklin          799045.86\n",
      "Ana Gonzalez              795145.15\n",
      "William Lee               794871.35\n",
      "Harlan L Kelly-Jr         794616.56\n",
      "Michael Lee               792816.38\n",
      "Michael Wong              787388.08\n",
      "Henry Yee                 785480.98\n",
      "Steven  Lee               772100.81\n",
      "                            ...    \n",
      "Simone Koga                   19.91\n",
      "ANH LUU                       18.78\n",
      "WALTER WILLIAMS               17.78\n",
      "MARVA MOORE                   17.42\n",
      "Guillermo A Rodriguez         16.19\n",
      "Carlos J Hernadez             15.99\n",
      "Kenneth Mackey                15.35\n",
      "John Carajan                  12.90\n",
      "Mengru  Chen                  12.14\n",
      "Mouy  Him                     12.14\n",
      "Chinaenye E Nwachukwu         12.14\n",
      "Darius T Gardner              11.33\n",
      "Roberto A Perez Lima          11.33\n",
      "Arthur L Curry                10.67\n",
      "MARCELLA TUCKER                8.86\n",
      "ROCK CRAWFORD                  5.80\n",
      "Nereida  Vega                  5.56\n",
      "John Draper                    5.17\n",
      "SERENA HUGHES                  4.17\n",
      "Donald Clark                   1.91\n",
      "JOE BROWN JR                   0.30\n",
      "Charlene D Mccully             0.00\n",
      "JOSEPHINE MCCREARY             0.00\n",
      "KAUKAB MOHSIN                  0.00\n",
      "PAULETTE ADAMS                 0.00\n",
      "Mark W Mcclure                 0.00\n",
      "Timothy E Gibson              -2.73\n",
      "Mark E Laherty                -8.20\n",
      "David P Kucia                -33.89\n",
      "Joe Lopez                   -618.13\n",
      "Name: TotalPayBenefits, Length: 110809, dtype: float64\n"
     ]
    }
   ],
   "source": [
    "#Who was the top earning employee across all the years?\n",
    "\n",
    "top_earning = dataset.groupby('EmployeeName').sum()['TotalPayBenefits']\n",
    "print (top_earning.sort_values(ascending=False))\n",
    "\n",
    "#Kevin Lee earned the highest across all the years. "
   ]
  }
 ],
 "metadata": {
  "kernelspec": {
   "display_name": "Python 3",
   "language": "python",
   "name": "python3"
  },
  "language_info": {
   "codemirror_mode": {
    "name": "ipython",
    "version": 3
   },
   "file_extension": ".py",
   "mimetype": "text/x-python",
   "name": "python",
   "nbconvert_exporter": "python",
   "pygments_lexer": "ipython3",
   "version": "3.7.1"
  }
 },
 "nbformat": 4,
 "nbformat_minor": 2
}
